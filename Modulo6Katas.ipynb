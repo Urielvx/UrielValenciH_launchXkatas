{
 "cells": [
  {
   "cell_type": "markdown",
   "metadata": {},
   "source": [
    "# Creación y manipulacón de listas"
   ]
  },
  {
   "cell_type": "code",
   "execution_count": 24,
   "metadata": {},
   "outputs": [
    {
     "name": "stdout",
     "output_type": "stream",
     "text": [
      "['jupiter', 'marte', 'neptuno', 'saturno', 'tierra', 'urano', 'venus']\n"
     ]
    }
   ],
   "source": [
    "planetas = ['tierra', 'venus' , 'marte', 'jupiter', 'saturno', 'urano', 'neptuno']\n",
    "\n",
    "planetas.sort()\n",
    "print(planetas)"
   ]
  },
  {
   "cell_type": "code",
   "execution_count": 38,
   "metadata": {},
   "outputs": [
    {
     "name": "stdout",
     "output_type": "stream",
     "text": [
      "['jupiter', 'marte', 'neptuno', 'plutón', 'saturno', 'tierra', 'urano', 'venus']\n"
     ]
    }
   ],
   "source": [
    "# planetas.append('plutón')\n",
    "planetas.sort()\n",
    "#lo usé para remover \"pluto\" planetas.remove('pluto')\n",
    "#del planetas [4] \n",
    "#agregué varios plutón   \n",
    "print(planetas)"
   ]
  },
  {
   "cell_type": "code",
   "execution_count": 111,
   "metadata": {},
   "outputs": [
    {
     "name": "stdout",
     "output_type": "stream",
     "text": [
      "El planeta que escogiste es la Tierra\n"
     ]
    }
   ],
   "source": [
    "listaNuevaPlanetas = ['Mercurio','Venus','Tierra','Marte','Jupiter','Saturno','Urano','Neptuno']\n",
    "planetaUsuario = input('Introduzca el nombre de un planeta')\n",
    "planetaUsuario =planetaUsuario.capitalize()\n",
    "\n",
    "if planetaUsuario == 'Plutón' or planetaUsuario =='Pluton':\n",
    "    planetaUsuario = 'Plutón'\n",
    "    print (planetaUsuario,'ya no se considera planeta desde el año 2006')\n",
    "elif planetaUsuario == 'La tierra' or planetaUsuario == 'Tierra':\n",
    "    listaNuevaPlanetas [2] = 'la Tierra'\n",
    "    print ('El planeta que escogiste es', listaNuevaPlanetas[2])\n",
    "else:\n",
    "    index1 = listaNuevaPlanetas.index(planetaUsuario.capitalize())\n",
    "    print ('El planeta que escogiste es', listaNuevaPlanetas[index1]) \n",
    "\n"
   ]
  },
  {
   "cell_type": "code",
   "execution_count": 109,
   "metadata": {},
   "outputs": [
    {
     "name": "stdout",
     "output_type": "stream",
     "text": [
      "Planetas más cercanos al Sol a partir de Mercurio  son: \n",
      "[]\n"
     ]
    }
   ],
   "source": [
    "newList = ['Mercurio','Venus','Tierra','Marte','Jupiter','Saturno','Urano','Neptuno']\n",
    "planetaUsuario = input('Introduzca el nombre de un planeta')\n",
    "planetaUsuario =planetaUsuario.capitalize()\n",
    " \n",
    "if planetaUsuario in newList :\n",
    "   if planetaUsuario == 'La tierra' or planetaUsuario == 'Tierra':\n",
    "      planetaUsuario = 'la Tierra'\n",
    "   index2 = newList.index(planetaUsuario)\n",
    "   print ('Planetas más cercanos al Sol a partir de',planetaUsuario,' son: ')\n",
    "   print(newList[0:index2])\n",
    "else:   \n",
    "   print(planetaUsuario,'no es un planeta, por favor escriba de nuevo el nombre')\n"
   ]
  }
 ],
 "metadata": {
  "interpreter": {
   "hash": "064dc75f77ffada3b47fbca642bcbed4782f3d0db9198f38cbe5445079fcd146"
  },
  "kernelspec": {
   "display_name": "Python 3.10.2 64-bit",
   "language": "python",
   "name": "python3"
  },
  "language_info": {
   "codemirror_mode": {
    "name": "ipython",
    "version": 3
   },
   "file_extension": ".py",
   "mimetype": "text/x-python",
   "name": "python",
   "nbconvert_exporter": "python",
   "pygments_lexer": "ipython3",
   "version": "3.10.2"
  },
  "orig_nbformat": 4
 },
 "nbformat": 4,
 "nbformat_minor": 2
}
