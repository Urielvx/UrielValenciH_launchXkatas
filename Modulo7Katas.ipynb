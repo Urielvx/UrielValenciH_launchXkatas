{
 "cells": [
  {
   "cell_type": "markdown",
   "metadata": {},
   "source": []
  },
  {
   "cell_type": "code",
   "execution_count": 7,
   "metadata": {},
   "outputs": [
    {
     "name": "stdout",
     "output_type": "stream",
     "text": [
      "Programa Para Almacenar Planetas\n",
      "Escriba la palabra exit para finalizar el programa\n"
     ]
    },
    {
     "ename": "TypeError",
     "evalue": "'int' object is not iterable",
     "output_type": "error",
     "traceback": [
      "\u001b[1;31m---------------------------------------------------------------------------\u001b[0m",
      "\u001b[1;31mTypeError\u001b[0m                                 Traceback (most recent call last)",
      "\u001b[1;32mUntitled-1.ipynb Cell 2'\u001b[0m in \u001b[0;36m<module>\u001b[1;34m\u001b[0m\n\u001b[0;32m     <a href='vscode-notebook-cell:Untitled-1.ipynb?jupyter-notebook#ch0000000untitled?line=13'>14</a>\u001b[0m     planets\u001b[39m.\u001b[39mappend (new_planet)\n\u001b[0;32m     <a href='vscode-notebook-cell:Untitled-1.ipynb?jupyter-notebook#ch0000000untitled?line=14'>15</a>\u001b[0m new_planet \u001b[39m=\u001b[39m \u001b[39minput\u001b[39m(\u001b[39m'\u001b[39m\u001b[39mIngrese el nombre de un planeta\u001b[39m\u001b[39m'\u001b[39m)\n\u001b[1;32m---> <a href='vscode-notebook-cell:Untitled-1.ipynb?jupyter-notebook#ch0000000untitled?line=15'>16</a>\u001b[0m \u001b[39mfor\u001b[39;00m planetas \u001b[39min\u001b[39;00m planets:\n\u001b[0;32m     <a href='vscode-notebook-cell:Untitled-1.ipynb?jupyter-notebook#ch0000000untitled?line=16'>17</a>\u001b[0m     \u001b[39mprint\u001b[39m(planets)\n",
      "\u001b[1;31mTypeError\u001b[0m: 'int' object is not iterable"
     ]
    }
   ],
   "source": [
    "x = 'Programa para almacenar planetas'\n",
    "\n",
    "Title = x.title()\n",
    "\n",
    "print (Title)\n",
    "print ('Escriba la palabra exit para finalizar el programa')\n",
    "\n",
    "new_planet = ''\n",
    "planets = []\n",
    "\n",
    "while new_planet.lower() != 'exit':\n",
    "    if new_planet:\n",
    "        planets.append (new_planet)\n",
    "    new_planet = input('Ingrese el nombre de un planeta')\n",
    "for planetas in planets:\n",
    "    print(planets)\n"
   ]
  }
 ],
 "metadata": {
  "interpreter": {
   "hash": "064dc75f77ffada3b47fbca642bcbed4782f3d0db9198f38cbe5445079fcd146"
  },
  "kernelspec": {
   "display_name": "Python 3.10.2 64-bit",
   "language": "python",
   "name": "python3"
  },
  "language_info": {
   "codemirror_mode": {
    "name": "ipython",
    "version": 3
   },
   "file_extension": ".py",
   "mimetype": "text/x-python",
   "name": "python",
   "nbconvert_exporter": "python",
   "pygments_lexer": "ipython3",
   "version": "3.10.2"
  },
  "orig_nbformat": 4
 },
 "nbformat": 4,
 "nbformat_minor": 2
}
