{
 "cells": [
  {
   "cell_type": "markdown",
   "metadata": {},
   "source": [
    "# Cata 3\n",
    "\n",
    "<b> <p style=\"color: blue;\"> ASTEROIDE</p> <p style=\"color: red;\">ALERT! </p> </b>"
   ]
  },
  {
   "cell_type": "markdown",
   "metadata": {},
   "source": [
    "#### Uso de la función randint, biblioteca random"
   ]
  },
  {
   "cell_type": "code",
   "execution_count": 1,
   "metadata": {},
   "outputs": [],
   "source": [
    "import random"
   ]
  },
  {
   "cell_type": "code",
   "execution_count": 14,
   "metadata": {},
   "outputs": [
    {
     "name": "stdout",
     "output_type": "stream",
     "text": [
      "PELIGRO, ¡Todos a los bunkers y a rezar!\n"
     ]
    }
   ],
   "source": [
    "VelocidadAsteroide = random.randint (10,60)\n",
    "\n",
    "if VelocidadAsteroide <= 25:\n",
    "    print (\"La tierra está segura :)\")\n",
    "else:    \n",
    "    print (\"PELIGRO, ¡Todos a los bunkers y a rezar!\")"
   ]
  },
  {
   "cell_type": "code",
   "execution_count": 54,
   "metadata": {},
   "outputs": [
    {
     "name": "stdout",
     "output_type": "stream",
     "text": [
      "Un día normal\n"
     ]
    }
   ],
   "source": [
    "VelocidadAsteroide = random.randint (0,25)\n",
    "\n",
    "if 0<= VelocidadAsteroide <= 9:\n",
    "    print (\"Un día normal\")\n",
    "elif 9 < VelocidadAsteroide >= 19:\n",
    "    print (\"¡Es un avión!, ¡no es un pajaro!\", \"¡Es superman!\")\n",
    "else:\n",
    "    print (\"¡WoW!, awesome, es un asteroide... corran!!!\")\n"
   ]
  },
  {
   "cell_type": "code",
   "execution_count": 174,
   "metadata": {},
   "outputs": [
    {
     "name": "stdout",
     "output_type": "stream",
     "text": [
      "...y en otras noticias, el cometa Leonard se podrá ver la tarde de este...\n"
     ]
    }
   ],
   "source": [
    "VelocidadAsteroide = random.randint (0,50)\n",
    "TamañoAsteroide = random.randint (0,1000)\n",
    "\n",
    "if VelocidadAsteroide < 26 and TamañoAsteroide < 26:\n",
    "    print(\"...y en otras noticias, el cometa Leonard se podrá ver la tarde de este...\")\n",
    "elif VelocidadAsteroide <= 25 and 25 < TamañoAsteroide < 1000:\n",
    "    print(\"Los expertos comentan que el meteorito está lejos pero piden extremar precauciones\")\n",
    "elif VelocidadAsteroide > 24 and TamañoAsteroide <= 25:\n",
    "    print(\"El asteroide podría impactar la tierra pero es pequeño, no representa peligro\")\n",
    "else:\n",
    "    print(\"¡Un asteroide de gran tamaño se acerca a la tierra a gran velocidad. ¿Será nuestro fin?\")\n"
   ]
  }
 ],
 "metadata": {
  "interpreter": {
   "hash": "064dc75f77ffada3b47fbca642bcbed4782f3d0db9198f38cbe5445079fcd146"
  },
  "kernelspec": {
   "display_name": "Python 3.10.2 64-bit",
   "language": "python",
   "name": "python3"
  },
  "language_info": {
   "codemirror_mode": {
    "name": "ipython",
    "version": 3
   },
   "file_extension": ".py",
   "mimetype": "text/x-python",
   "name": "python",
   "nbconvert_exporter": "python",
   "pygments_lexer": "ipython3",
   "version": "3.10.2"
  },
  "orig_nbformat": 4
 },
 "nbformat": 4,
 "nbformat_minor": 2
}
